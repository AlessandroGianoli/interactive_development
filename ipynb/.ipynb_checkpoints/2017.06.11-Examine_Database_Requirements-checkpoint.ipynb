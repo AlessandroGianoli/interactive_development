{
 "cells": [
  {
   "cell_type": "code",
   "execution_count": 1,
   "id": "9639170b",
   "metadata": {},
   "outputs": [],
   "source": [
    "from os import chdir"
   ]
  },
  {
   "cell_type": "code",
   "execution_count": 6,
   "id": "19029f9e",
   "metadata": {},
   "outputs": [],
   "source": [
    "chdir('/home/jovyan')"
   ]
  },
  {
   "cell_type": "code",
   "execution_count": 3,
   "id": "89e42b86",
   "metadata": {},
   "outputs": [],
   "source": [
    "import random \n",
    "import pandas as pd"
   ]
  },
  {
   "cell_type": "code",
   "execution_count": 9,
   "id": "3c32faab",
   "metadata": {},
   "outputs": [
    {
     "name": "stdout",
     "output_type": "stream",
     "text": [
      "total 20\r\n",
      "drwxr-xr-x 2 jovyan users 4096 Sep 28 04:28 \u001b[0m\u001b[01;34mdata\u001b[0m/\r\n",
      "drwxr-xr-x 2 jovyan  1000 4096 Sep 28 03:37 \u001b[01;34mdocker\u001b[0m/\r\n",
      "-rw------- 1 jovyan  1000  175 Sep 28 03:48 docker-compose.yml\r\n",
      "drwxr-xr-x 3 jovyan  1000 4096 Sep 28 04:27 \u001b[01;34mipynb\u001b[0m/\r\n",
      "drwxr-xr-x 2 jovyan  1000 4096 Sep 28 03:41 \u001b[01;34mlib\u001b[0m/\r\n"
     ]
    }
   ],
   "source": [
    "ls -l"
   ]
  },
  {
   "cell_type": "markdown",
   "id": "807b63ff",
   "metadata": {},
   "source": [
    "**CREATE DATA DIRECTORY"
   ]
  },
  {
   "cell_type": "code",
   "execution_count": 8,
   "id": "0cb1d6fb",
   "metadata": {},
   "outputs": [],
   "source": [
    "!mkdir data"
   ]
  },
  {
   "cell_type": "code",
   "execution_count": 11,
   "id": "2aeb7f29",
   "metadata": {},
   "outputs": [
    {
     "name": "stdout",
     "output_type": "stream",
     "text": [
      "--2021-09-28 04:31:04--  http://archive.ics.uci.edu/ml/machine-learning-databases/adult/adult.data\n",
      "Resolving archive.ics.uci.edu (archive.ics.uci.edu)... 128.195.10.252\n",
      "Connecting to archive.ics.uci.edu (archive.ics.uci.edu)|128.195.10.252|:80... connected.\n",
      "HTTP request sent, awaiting response... 200 OK\n",
      "Length: 3974305 (3.8M) [application/x-httpd-php]\n",
      "Saving to: ‘data/adult.data’\n",
      "\n",
      "adult.data          100%[===================>]   3.79M   188KB/s    in 22s     \n",
      "\n",
      "2021-09-28 04:31:26 (180 KB/s) - ‘data/adult.data’ saved [3974305/3974305]\n",
      "\n"
     ]
    }
   ],
   "source": [
    "!wget -P data/ \\\n",
    "http://archive.ics.uci.edu/ml/machine-learning-databases/adult/adult.data"
   ]
  },
  {
   "cell_type": "markdown",
   "id": "ae6d5461",
   "metadata": {},
   "source": [
    "**Count the Number of Lines in the File"
   ]
  },
  {
   "cell_type": "code",
   "execution_count": 12,
   "id": "cdde1db1",
   "metadata": {},
   "outputs": [
    {
     "name": "stdout",
     "output_type": "stream",
     "text": [
      "32562 data/adult.data\r\n"
     ]
    }
   ],
   "source": [
    "!wc -l data/adult.data"
   ]
  },
  {
   "cell_type": "markdown",
   "id": "81cd2c05",
   "metadata": {},
   "source": [
    "**Check to See If the File Has a Header"
   ]
  },
  {
   "cell_type": "code",
   "execution_count": 13,
   "id": "e78291f9",
   "metadata": {},
   "outputs": [
    {
     "name": "stdout",
     "output_type": "stream",
     "text": [
      "39, State-gov, 77516, Bachelors, 13, Never-married, Adm-clerical, Not-in-family, White, Male, 2174, 0, 40, United-States, <=50K\r\n",
      "50, Self-emp-not-inc, 83311, Bachelors, 13, Married-civ-spouse, Exec-managerial, Husband, White, Male, 0, 0, 13, United-States, <=50K\r\n"
     ]
    }
   ],
   "source": [
    "!head -n 2 data/adult.data"
   ]
  },
  {
   "cell_type": "markdown",
   "id": "d2e1e648",
   "metadata": {},
   "source": [
    "**Load the File Using pandas**\n",
    "\n",
    "In the next lines of code you load a 10% sample of the dataset using the pandas.read_csv function.\n",
    "\n",
    "To do this, you first define two variables, number_of_rows and sample_size. The first is the number of rows present in your dataset, the second the number of rows you would like to include in your sample.\n",
    "\n",
    "You next create a list, rows_to_skip, by using the random.sample function. random.sample takes two arguments: a list from which youwish to sample and a sample size. Here, you create a range of number from 0 to number_ of_rows and request a sample set of size number_of_rows - sample_size. \n",
    "\n",
    "The returned sample list is sorted and becomes your rows to skip. This list is passed to pandas.read_ csv at runtime. The effect is that pandas.read_csv will load a set of size sample_size. \n",
    "\n",
    "The output of pandas.read_csv is a pandas.DataFrame object. You save this pandas.DataFrame as adult_df. \n",
    "\n",
    "You assign a list of column names (obtained from the dataset description at the UCI Machine Learning Repository) to the object attribute adult_df.columns."
   ]
  },
  {
   "cell_type": "code",
   "execution_count": 15,
   "id": "c27ef5d5",
   "metadata": {},
   "outputs": [],
   "source": [
    "number_of_rows = 32562 \n",
    "sample_size = 3300\n",
    "\n",
    "rows_to_skip = random.sample(range(number_of_rows), number_of_rows - sample_size)\n",
    "\n",
    "rows_to_skip.sort()\n",
    "\n",
    "adult_df = pd.read_csv('data/adult.data', header=None, skiprows=rows_to_skip) \n",
    "\n",
    "adult_df.columns = [ \n",
    "    'age',\n",
    "    'workclass',\n",
    "    'fnlwgt',\n",
    "    'education',\n",
    "    'education_num',\n",
    "    'marital_status',\n",
    "    'occupation',\n",
    "    'relationship',\n",
    "    'race',\n",
    "    'gender',\n",
    "    'capital_gain',\n",
    "    'capital_loss',\n",
    "    'hours_per_week',\n",
    "    'native_country',\n",
    "    'income_label'\n",
    "]"
   ]
  },
  {
   "cell_type": "markdown",
   "id": "0f69dd90",
   "metadata": {},
   "source": [
    "**display a sample of the loaded DataFrame using adult_df.sample(3)."
   ]
  },
  {
   "cell_type": "code",
   "execution_count": 16,
   "id": "dfa6ae5c",
   "metadata": {},
   "outputs": [
    {
     "data": {
      "text/html": [
       "<div>\n",
       "<style scoped>\n",
       "    .dataframe tbody tr th:only-of-type {\n",
       "        vertical-align: middle;\n",
       "    }\n",
       "\n",
       "    .dataframe tbody tr th {\n",
       "        vertical-align: top;\n",
       "    }\n",
       "\n",
       "    .dataframe thead th {\n",
       "        text-align: right;\n",
       "    }\n",
       "</style>\n",
       "<table border=\"1\" class=\"dataframe\">\n",
       "  <thead>\n",
       "    <tr style=\"text-align: right;\">\n",
       "      <th></th>\n",
       "      <th>age</th>\n",
       "      <th>workclass</th>\n",
       "      <th>fnlwgt</th>\n",
       "      <th>education</th>\n",
       "      <th>education_num</th>\n",
       "      <th>marital_status</th>\n",
       "      <th>occupation</th>\n",
       "      <th>relationship</th>\n",
       "      <th>race</th>\n",
       "      <th>gender</th>\n",
       "      <th>capital_gain</th>\n",
       "      <th>capital_loss</th>\n",
       "      <th>hours_per_week</th>\n",
       "      <th>native_country</th>\n",
       "      <th>income_label</th>\n",
       "    </tr>\n",
       "  </thead>\n",
       "  <tbody>\n",
       "    <tr>\n",
       "      <th>397</th>\n",
       "      <td>30</td>\n",
       "      <td>Private</td>\n",
       "      <td>98733</td>\n",
       "      <td>Some-college</td>\n",
       "      <td>10</td>\n",
       "      <td>Divorced</td>\n",
       "      <td>Machine-op-inspct</td>\n",
       "      <td>Unmarried</td>\n",
       "      <td>White</td>\n",
       "      <td>Female</td>\n",
       "      <td>0</td>\n",
       "      <td>0</td>\n",
       "      <td>20</td>\n",
       "      <td>United-States</td>\n",
       "      <td>&lt;=50K</td>\n",
       "    </tr>\n",
       "    <tr>\n",
       "      <th>1126</th>\n",
       "      <td>30</td>\n",
       "      <td>Private</td>\n",
       "      <td>185177</td>\n",
       "      <td>11th</td>\n",
       "      <td>7</td>\n",
       "      <td>Never-married</td>\n",
       "      <td>Handlers-cleaners</td>\n",
       "      <td>Own-child</td>\n",
       "      <td>White</td>\n",
       "      <td>Male</td>\n",
       "      <td>0</td>\n",
       "      <td>0</td>\n",
       "      <td>49</td>\n",
       "      <td>United-States</td>\n",
       "      <td>&lt;=50K</td>\n",
       "    </tr>\n",
       "    <tr>\n",
       "      <th>863</th>\n",
       "      <td>38</td>\n",
       "      <td>Private</td>\n",
       "      <td>168407</td>\n",
       "      <td>Some-college</td>\n",
       "      <td>10</td>\n",
       "      <td>Divorced</td>\n",
       "      <td>Adm-clerical</td>\n",
       "      <td>Unmarried</td>\n",
       "      <td>White</td>\n",
       "      <td>Female</td>\n",
       "      <td>5721</td>\n",
       "      <td>0</td>\n",
       "      <td>44</td>\n",
       "      <td>United-States</td>\n",
       "      <td>&lt;=50K</td>\n",
       "    </tr>\n",
       "  </tbody>\n",
       "</table>\n",
       "</div>"
      ],
      "text/plain": [
       "      age workclass  fnlwgt      education  education_num  marital_status  \\\n",
       "397    30   Private   98733   Some-college             10        Divorced   \n",
       "1126   30   Private  185177           11th              7   Never-married   \n",
       "863    38   Private  168407   Some-college             10        Divorced   \n",
       "\n",
       "              occupation relationship    race   gender  capital_gain  \\\n",
       "397    Machine-op-inspct    Unmarried   White   Female             0   \n",
       "1126   Handlers-cleaners    Own-child   White     Male             0   \n",
       "863         Adm-clerical    Unmarried   White   Female          5721   \n",
       "\n",
       "      capital_loss  hours_per_week  native_country income_label  \n",
       "397              0              20   United-States        <=50K  \n",
       "1126             0              49   United-States        <=50K  \n",
       "863              0              44   United-States        <=50K  "
      ]
     },
     "execution_count": 16,
     "metadata": {},
     "output_type": "execute_result"
    }
   ],
   "source": [
    "adult_df.sample(3)"
   ]
  },
  {
   "cell_type": "markdown",
   "id": "b0063eb0",
   "metadata": {},
   "source": [
    "**Comparing meta-information from UCI’s Machine Learning Repository to the DataFrame data types\n",
    "\n",
    "At this point, you begin to construct a schema for loading your dataset into a PostgreSQL database. \n",
    "\n",
    "In tye following cell, you use Jupyter markdown to annotate the datatypes of the different feature columns as providing by UCI, and then examine the adult_df.dtypes to display the data types of each column in the pandas.DataFrame. \n",
    "\n",
    "If the data is properly formatted in the CSV file, then pandas will assign the proper data types to each column. If the pandas.DataFrame data types match the data types in the meta-information providing by UCI, then you should be able to count on the integrity of the data at load time, and be able to use the suggested data types to define your schema. Note that the pandas.DataFrame data types do match the data types in the meta-information and therefore you can use the meta-information as the basis for\n",
    "your schema without the need for special data handling."
   ]
  },
  {
   "cell_type": "markdown",
   "id": "ee0c0927",
   "metadata": {},
   "source": [
    "age: **continuous**.\n",
    "\n",
    "workclass: **class** - Private, Self-emp-not-inc, Self-emp-inc, Federal-gov, Local-gov, State-gov, Without-pay, Never-worked.\n",
    "\n",
    "fnlwgt: **continuous**.\n",
    "\n",
    "education: **class** - Bachelors, Some-college, 11th, HS-grad, Prof-school, Assoc-acdm, Assoc-voc, 9th, 7th-8th, 12th, Masters, 1st-4th, 10th, Doctorate, 5th-6th, Preschool.\n",
    "\n",
    "education-num: **continuous**.\n",
    "\n",
    "marital-status: **class** - Married-civ-spouse, Divorced, Never-married, Separated, Widowed, Married-spouse-absent, Married-AF-spouse.\n",
    "\n",
    "occupation: **class** - Tech-support, Craft-repair, Other-service, Sales, Exec-managerial, Prof-specialty, Handlers-cleaners, Machine-op-inspct, Adm-clerical, Farming-fishing, Transport-moving, Priv-house-serv, Protective-serv, Armed-Forces.\n",
    "\n",
    "relationship: **class** - Wife, Own-child, Husband, Not-in-family, Other-relative, Unmarried.\n",
    "\n",
    "race: **class** - White, Asian-Pac-Islander, Amer-Indian-Eskimo, Other, Black.\n",
    "\n",
    "sex: Female, Male.\n",
    "\n",
    "capital-gain: **continuous**.\n",
    "\n",
    "capital-loss: **continuous**.\n",
    "\n",
    "hours-per-week: **continuous**.\n",
    "\n",
    "native-country: **class** United-States, Cambodia, England, Puerto-Rico, Canada, Germany, Outlying-US(Guam-USVI-etc), India, Japan, Greece, South, China, Cuba, Iran, Honduras, Philippines, Italy, Poland, Jamaica, Vietnam, Mexico, Portugal, Ireland, France, Dominican-Republic, Laos, Ecuador, Taiwan, Haiti, Columbia, Hungary, Guatemala, Nicaragua, Scotland, Thailand, Yugoslavia, El-Salvador, Trinadad&Tobago, Peru, Hong, Holand-Netherlands.\n"
   ]
  },
  {
   "cell_type": "code",
   "execution_count": 17,
   "id": "d4c79a21",
   "metadata": {},
   "outputs": [
    {
     "data": {
      "text/plain": [
       "age                int64\n",
       "workclass         object\n",
       "fnlwgt             int64\n",
       "education         object\n",
       "education_num      int64\n",
       "marital_status    object\n",
       "occupation        object\n",
       "relationship      object\n",
       "race              object\n",
       "gender            object\n",
       "capital_gain       int64\n",
       "capital_loss       int64\n",
       "hours_per_week     int64\n",
       "native_country    object\n",
       "income_label      object\n",
       "dtype: object"
      ]
     },
     "execution_count": 17,
     "metadata": {},
     "output_type": "execute_result"
    }
   ],
   "source": [
    "adult_df.dtypes"
   ]
  },
  {
   "cell_type": "code",
   "execution_count": null,
   "id": "735b413b",
   "metadata": {},
   "outputs": [],
   "source": []
  }
 ],
 "metadata": {
  "kernelspec": {
   "display_name": "Python 3 (ipykernel)",
   "language": "python",
   "name": "python3"
  },
  "language_info": {
   "codemirror_mode": {
    "name": "ipython",
    "version": 3
   },
   "file_extension": ".py",
   "mimetype": "text/x-python",
   "name": "python",
   "nbconvert_exporter": "python",
   "pygments_lexer": "ipython3",
   "version": "3.9.6"
  }
 },
 "nbformat": 4,
 "nbformat_minor": 5
}
