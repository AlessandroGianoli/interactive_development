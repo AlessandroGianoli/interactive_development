{
 "cells": [
  {
   "cell_type": "code",
   "execution_count": 1,
   "id": "76148e31",
   "metadata": {},
   "outputs": [],
   "source": [
    "from os import chdir"
   ]
  },
  {
   "cell_type": "code",
   "execution_count": 2,
   "id": "0f2cf24b",
   "metadata": {},
   "outputs": [],
   "source": [
    "chdir('/home/jovyan')"
   ]
  },
  {
   "cell_type": "code",
   "execution_count": 3,
   "id": "796ba699",
   "metadata": {},
   "outputs": [],
   "source": [
    "import random\n",
    "import pandas as pd"
   ]
  },
  {
   "cell_type": "code",
   "execution_count": 4,
   "id": "0c0d9d8e",
   "metadata": {},
   "outputs": [
    {
     "name": "stdout",
     "output_type": "stream",
     "text": [
      "total 24\r\n",
      "drwxr-xr-x 2 jovyan users 4096 Sep 28 04:31 \u001b[0m\u001b[01;34mdata\u001b[0m/\r\n",
      "drwxr-xr-x 4 jovyan  1000 4096 Sep 29 04:37 \u001b[01;34mdocker\u001b[0m/\r\n",
      "-rw------- 1 jovyan  1000  453 Sep 29 04:42 docker-compose.yml\r\n",
      "drwxr-xr-x 3 jovyan  1000 4096 Sep 28 04:57 \u001b[01;34mipynb\u001b[0m/\r\n",
      "drwxr-xr-x 2 jovyan  1000 4096 Oct 22 03:08 \u001b[01;34mlib\u001b[0m/\r\n",
      "-rw-r--r-- 1 jovyan  1000  135 Oct 22 03:07 README.MD\r\n"
     ]
    }
   ],
   "source": [
    "ls -l"
   ]
  },
  {
   "cell_type": "code",
   "execution_count": 5,
   "id": "1fe4c7fa",
   "metadata": {},
   "outputs": [
    {
     "name": "stdout",
     "output_type": "stream",
     "text": [
      "mkdir: cannot create directory ‘data’: File exists\r\n"
     ]
    }
   ],
   "source": [
    "!mkdir data"
   ]
  },
  {
   "cell_type": "code",
   "execution_count": 6,
   "id": "4ed35f0c",
   "metadata": {},
   "outputs": [
    {
     "name": "stdout",
     "output_type": "stream",
     "text": [
      "32562 data/adult.data\r\n"
     ]
    }
   ],
   "source": [
    "!wc -l data/adult.data"
   ]
  },
  {
   "cell_type": "code",
   "execution_count": 7,
   "id": "afbbf3bc",
   "metadata": {},
   "outputs": [
    {
     "name": "stdout",
     "output_type": "stream",
     "text": [
      "39, State-gov, 77516, Bachelors, 13, Never-married, Adm-clerical, Not-in-family, White, Male, 2174, 0, 40, United-States, <=50K\r\n",
      "50, Self-emp-not-inc, 83311, Bachelors, 13, Married-civ-spouse, Exec-managerial, Husband, White, Male, 0, 0, 13, United-States, <=50K\r\n"
     ]
    }
   ],
   "source": [
    "!head -n 2 data/adult.data"
   ]
  },
  {
   "cell_type": "code",
   "execution_count": 8,
   "id": "670dd150",
   "metadata": {},
   "outputs": [
    {
     "name": "stdout",
     "output_type": "stream",
     "text": [
      "Collecting psycopg2-binary\n",
      "  Using cached psycopg2_binary-2.9.1-cp39-cp39-manylinux_2_17_x86_64.manylinux2014_x86_64.whl (3.4 MB)\n",
      "Installing collected packages: psycopg2-binary\n",
      "Successfully installed psycopg2-binary-2.9.1\n"
     ]
    }
   ],
   "source": [
    "!pip install psycopg2-binary"
   ]
  },
  {
   "cell_type": "code",
   "execution_count": 9,
   "id": "b3aaa0ed",
   "metadata": {},
   "outputs": [],
   "source": [
    "import psycopg2 as pg2"
   ]
  },
  {
   "cell_type": "code",
   "execution_count": 10,
   "id": "2ec69187",
   "metadata": {},
   "outputs": [],
   "source": [
    "con = pg2.connect(host='this_postgres', user='postgres', password='ale', database='postgres')"
   ]
  },
  {
   "cell_type": "code",
   "execution_count": 11,
   "id": "adf76dc3",
   "metadata": {},
   "outputs": [],
   "source": [
    "cur = con.cursor()"
   ]
  },
  {
   "cell_type": "code",
   "execution_count": 15,
   "id": "2b36fa2a",
   "metadata": {},
   "outputs": [],
   "source": [
    "cur.execute(\"SELECT COUNT (*) FROM adult;\")"
   ]
  },
  {
   "cell_type": "code",
   "execution_count": 16,
   "id": "8de59515",
   "metadata": {},
   "outputs": [
    {
     "name": "stdout",
     "output_type": "stream",
     "text": [
      "[(0,)]\n"
     ]
    }
   ],
   "source": [
    "print(cur.fetchall())"
   ]
  },
  {
   "cell_type": "code",
   "execution_count": 17,
   "id": "1d51a98d",
   "metadata": {},
   "outputs": [],
   "source": [
    "con.close()"
   ]
  }
 ],
 "metadata": {
  "kernelspec": {
   "display_name": "Python 3 (ipykernel)",
   "language": "python",
   "name": "python3"
  },
  "language_info": {
   "codemirror_mode": {
    "name": "ipython",
    "version": 3
   },
   "file_extension": ".py",
   "mimetype": "text/x-python",
   "name": "python",
   "nbconvert_exporter": "python",
   "pygments_lexer": "ipython3",
   "version": "3.9.6"
  }
 },
 "nbformat": 4,
 "nbformat_minor": 5
}
